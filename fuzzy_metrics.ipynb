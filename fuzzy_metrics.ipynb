{
  "nbformat": 4,
  "nbformat_minor": 0,
  "metadata": {
    "colab": {
      "provenance": []
    },
    "kernelspec": {
      "name": "python3",
      "display_name": "Python 3"
    },
    "language_info": {
      "name": "python"
    }
  },
  "cells": [
    {
      "cell_type": "code",
      "execution_count": 2,
      "metadata": {
        "colab": {
          "base_uri": "https://localhost:8080/"
        },
        "id": "niJQ1_X7EoEY",
        "outputId": "ed4d9329-8c4a-407d-801b-7333d30710be"
      },
      "outputs": [
        {
          "output_type": "stream",
          "name": "stdout",
          "text": [
            "Fuzzy Kappa: 1.0000\n"
          ]
        }
      ],
      "source": [
        "import pandas as pd\n",
        "import numpy as np\n",
        "\n",
        "\n",
        "file_path = \"temporal_annotation_mini_dataset.csv\"\n",
        "df = pd.read_csv(file_path)\n",
        "\n",
        "\n",
        "similarity_matrix = {\n",
        "    \"Main Axis\": {\"Main Axis\": 1.0, \"Intention Axis\": 0.6, \"Opinion Axis\": 0.5, \"Hypothetical Axis\": 0.4, \"Negation Axis\": 0.3, \"Generic Axis\": 0.5, \"Static Axis\": 0.7},\n",
        "    \"Intention Axis\": {\"Main Axis\": 0.6, \"Intention Axis\": 1.0, \"Opinion Axis\": 0.7, \"Hypothetical Axis\": 0.5, \"Negation Axis\": 0.3, \"Generic Axis\": 0.6, \"Static Axis\": 0.4},\n",
        "    \"Opinion Axis\": {\"Main Axis\": 0.5, \"Intention Axis\": 0.7, \"Opinion Axis\": 1.0, \"Hypothetical Axis\": 0.6, \"Negation Axis\": 0.4, \"Generic Axis\": 0.5, \"Static Axis\": 0.3},\n",
        "    \"Hypothetical Axis\": {\"Main Axis\": 0.4, \"Intention Axis\": 0.5, \"Opinion Axis\": 0.6, \"Hypothetical Axis\": 1.0, \"Negation Axis\": 0.5, \"Generic Axis\": 0.4, \"Static Axis\": 0.3},\n",
        "    \"Negation Axis\": {\"Main Axis\": 0.3, \"Intention Axis\": 0.3, \"Opinion Axis\": 0.4, \"Hypothetical Axis\": 0.5, \"Negation Axis\": 1.0, \"Generic Axis\": 0.4, \"Static Axis\": 0.2},\n",
        "    \"Generic Axis\": {\"Main Axis\": 0.5, \"Intention Axis\": 0.6, \"Opinion Axis\": 0.5, \"Hypothetical Axis\": 0.4, \"Negation Axis\": 0.4, \"Generic Axis\": 1.0, \"Static Axis\": 0.6},\n",
        "    \"Static Axis\": {\"Main Axis\": 0.7, \"Intention Axis\": 0.4, \"Opinion Axis\": 0.3, \"Hypothetical Axis\": 0.3, \"Negation Axis\": 0.2, \"Generic Axis\": 0.6, \"Static Axis\": 1.0},\n",
        "}\n",
        "\n",
        "\n",
        "def calculate_similarity(label1, label2, similarity_matrix):\n",
        "    return similarity_matrix[label1][label2]\n",
        "\n",
        "\n",
        "def calculate_observed_agreement(df, similarity_matrix):\n",
        "    similarities = []\n",
        "    for i, row in df.iterrows():\n",
        "        sim1 = calculate_similarity(row[\"Annotator_1_Split_1_Axis\"], row[\"Annotator_2_Split_1_Axis\"], similarity_matrix)\n",
        "        sim2 = calculate_similarity(row[\"Annotator_1_Split_2_Axis\"], row[\"Annotator_2_Split_2_Axis\"], similarity_matrix)\n",
        "        similarities.append((sim1 + sim2) / 2)\n",
        "    return np.mean(similarities)\n",
        "\n",
        "\n",
        "def calculate_expected_agreement(df, similarity_matrix):\n",
        "    label_counts = df[\"Annotator_1_Split_1_Axis\"].value_counts().to_dict()\n",
        "    total_labels = sum(label_counts.values())\n",
        "    probabilities = {label: count / total_labels for label, count in label_counts.items()}\n",
        "\n",
        "    expected_similarities = []\n",
        "    for label1, prob1 in probabilities.items():\n",
        "        for label2, prob2 in probabilities.items():\n",
        "            expected_similarities.append(prob1 * prob2 * similarity_matrix[label1][label2])\n",
        "    return sum(expected_similarities)\n",
        "\n",
        "\n",
        "def calculate_fuzzy_kappa(df, similarity_matrix):\n",
        "    P_o = calculate_observed_agreement(df, similarity_matrix)\n",
        "    P_e = calculate_expected_agreement(df, similarity_matrix)\n",
        "    kappa = (P_o - P_e) / (1 - P_e)\n",
        "    return kappa\n",
        "\n",
        "\n",
        "fuzzy_kappa = calculate_fuzzy_kappa(df, similarity_matrix)\n",
        "print(f\"Fuzzy Kappa: {fuzzy_kappa:.4f}\")\n"
      ]
    }
  ]
}